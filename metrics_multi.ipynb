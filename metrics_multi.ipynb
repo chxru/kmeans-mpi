{
 "cells": [
  {
   "cell_type": "code",
   "execution_count": 8,
   "metadata": {},
   "outputs": [],
   "source": [
    "import subprocess\n",
    "\n",
    "\n",
    "def run(n: int):\n",
    "    result = subprocess.run(\n",
    "        [\"mpirun\", \"-n\", str(n), \"python\", \"multi.py\"], stdout=subprocess.PIPE\n",
    "    ).stdout.decode(\"utf-8\")\n",
    "\n",
    "    return result"
   ]
  },
  {
   "cell_type": "code",
   "execution_count": 9,
   "metadata": {},
   "outputs": [
    {
     "name": "stdout",
     "output_type": "stream",
     "text": [
      "Process 0: [{'file': 'data_200.csv', 'start': 0, 'end': 200}, {'file': 'data_300.csv', 'start': 0, 'end': 175}]\n",
      "Process 1: [{'file': 'data_300.csv', 'start': 175, 'end': 300}, {'file': 'data_1000.csv', 'start': 0, 'end': 250}]\n",
      "Process 2: [{'file': 'data_1000.csv', 'start': 250, 'end': 625}]\n",
      "Process 3: [{'file': 'data_1000.csv', 'start': 625, 'end': 1000}]\n",
      "Communication time takes 0.0071 seconds for processor 2\n",
      "Communication time takes 0.0117 seconds for processor 3\n",
      "Communication time takes 0.0050 seconds for processor 4\n",
      "Communication time takes 0.0226 seconds for processor 1\n",
      "Sequential KMeans\n",
      "[[0.77290211 0.34634568]\n",
      " [0.24639257 0.28206578]\n",
      " [0.4527302  0.79163638]]\n",
      "Parallel KMeans\n",
      "[[0.77763041 0.34234131]\n",
      " [0.24827524 0.28338257]\n",
      " [0.45233271 0.79136346]]\n",
      "Scikit KMeans\n",
      "[[0.76416462 0.3221683 ]\n",
      " [0.23752843 0.29437459]\n",
      " [0.47669512 0.79145383]]\n",
      "\n"
     ]
    }
   ],
   "source": [
    "print(run(4))"
   ]
  },
  {
   "cell_type": "code",
   "execution_count": 10,
   "metadata": {},
   "outputs": [],
   "source": [
    "import re\n",
    "\n",
    "\n",
    "def data_load_ts_extractor(text: str):\n",
    "    pattern = r\"Data Loader takes ([0-9.]+) seconds for processor (\\d+)\"\n",
    "\n",
    "    # Search for the pattern in the text\n",
    "    match = re.search(pattern, text)\n",
    "\n",
    "    # Extract process ID and time elapsed\n",
    "    if match:\n",
    "        time_elapsed = match.group(2)\n",
    "        process_id = match.group(1)\n",
    "        return (process_id, time_elapsed)\n",
    "\n",
    "    return (None, None)\n",
    "\n",
    "\n",
    "def communication_time_ts_extractor(text: str):\n",
    "    pattern = r\"Communication time takes ([0-9.]+) seconds for processor (\\d+)\"\n",
    "\n",
    "    # Search for the pattern in the text\n",
    "    match = re.search(pattern, text)\n",
    "\n",
    "    # Extract process ID and time elapsed\n",
    "    if match:\n",
    "        time_elapsed = match.group(1)\n",
    "        process_id = match.group(2)\n",
    "        return (process_id, time_elapsed)\n",
    "\n",
    "    return (None, None)\n",
    "\n",
    "\n",
    "def whole_time_ts_extractor(text: str):\n",
    "    pattern = r\"Whole Processing takes ([0-9.]+) seconds for processor (\\d+)\"\n",
    "\n",
    "    # Search for the pattern in the text\n",
    "    match = re.search(pattern, text)\n",
    "\n",
    "    # Extract process ID and time elapsed\n",
    "    if match:\n",
    "        time_elapsed = match.group(1)\n",
    "        process_id = match.group(2)\n",
    "        return (process_id, time_elapsed)\n",
    "\n",
    "    return (None, None)"
   ]
  },
  {
   "cell_type": "code",
   "execution_count": 11,
   "metadata": {},
   "outputs": [],
   "source": [
    "metrics = {}\n",
    "\n",
    "\n",
    "def get_mtrics(n: int):\n",
    "    communication_times = []\n",
    "\n",
    "    for x in run(n).split(\"\\n\"):\n",
    "        (process_id, communication_time) = communication_time_ts_extractor(x)\n",
    "        if process_id and communication_time:\n",
    "            communication_times.append((int(process_id), float(communication_time)))\n",
    "\n",
    "    # calculate mean times\n",
    "    communication_times_mean = sum([x[1] for x in communication_times]) / len(\n",
    "        communication_times\n",
    "    )\n",
    "\n",
    "    metrics[n] = communication_times_mean"
   ]
  },
  {
   "cell_type": "code",
   "execution_count": 12,
   "metadata": {},
   "outputs": [],
   "source": [
    "for i in range(1, 7):\n",
    "    get_mtrics(i)"
   ]
  },
  {
   "cell_type": "code",
   "execution_count": 13,
   "metadata": {},
   "outputs": [
    {
     "name": "stdout",
     "output_type": "stream",
     "text": [
      "{1: 0.0028, 2: 0.0056, 3: 0.025033333333333335, 4: 0.025500000000000002, 5: 0.01134, 6: 0.015316666666666666}\n"
     ]
    }
   ],
   "source": [
    "print(metrics)"
   ]
  },
  {
   "cell_type": "code",
   "execution_count": 14,
   "metadata": {},
   "outputs": [
    {
     "name": "stderr",
     "output_type": "stream",
     "text": [
      "/home/chxru/p/kmeans-mpi/.venv/lib/python3.10/site-packages/seaborn/_oldcore.py:1498: FutureWarning: is_categorical_dtype is deprecated and will be removed in a future version. Use isinstance(dtype, CategoricalDtype) instead\n",
      "  if pd.api.types.is_categorical_dtype(vector):\n",
      "/home/chxru/p/kmeans-mpi/.venv/lib/python3.10/site-packages/seaborn/_oldcore.py:1498: FutureWarning: is_categorical_dtype is deprecated and will be removed in a future version. Use isinstance(dtype, CategoricalDtype) instead\n",
      "  if pd.api.types.is_categorical_dtype(vector):\n",
      "/home/chxru/p/kmeans-mpi/.venv/lib/python3.10/site-packages/seaborn/_oldcore.py:1119: FutureWarning: use_inf_as_na option is deprecated and will be removed in a future version. Convert inf values to NaN before operating instead.\n",
      "  with pd.option_context('mode.use_inf_as_na', True):\n",
      "/home/chxru/p/kmeans-mpi/.venv/lib/python3.10/site-packages/seaborn/_oldcore.py:1119: FutureWarning: use_inf_as_na option is deprecated and will be removed in a future version. Convert inf values to NaN before operating instead.\n",
      "  with pd.option_context('mode.use_inf_as_na', True):\n"
     ]
    },
    {
     "data": {
      "image/png": "[encoded data removed]",
      "text/plain": [
       "<Figure size 640x480 with 1 Axes>"
      ]
     },
     "metadata": {},
     "output_type": "display_data"
    }
   ],
   "source": [
    "import seaborn as sns\n",
    "import matplotlib.pyplot as plt\n",
    "import pandas as pd\n",
    "\n",
    "sns.set_theme(style=\"whitegrid\")\n",
    "\n",
    "# show communication mean time\n",
    "df = pd.DataFrame.from_dict(metrics, orient=\"index\", columns=[\"time\"])\n",
    "df = df.reset_index().rename(columns={\"index\": \"processes\"})\n",
    "sns.lineplot(data=df, x=\"processes\", y=\"time\")\n",
    "plt.show()"
   ]
  }
 ],
 "metadata": {
  "kernelspec": {
   "display_name": ".venv",
   "language": "python",
   "name": "python3"
  },
  "language_info": {
   "codemirror_mode": {
    "name": "ipython",
    "version": 3
   },
   "file_extension": ".py",
   "mimetype": "text/x-python",
   "name": "python",
   "nbconvert_exporter": "python",
   "pygments_lexer": "ipython3",
   "version": "3.10.12"
  },
  "orig_nbformat": 4
 },
 "nbformat": 4,
 "nbformat_minor": 2
}
